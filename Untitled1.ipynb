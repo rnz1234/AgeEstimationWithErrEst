{
 "cells": [
  {
   "cell_type": "code",
   "execution_count": 92,
   "id": "497ce919",
   "metadata": {},
   "outputs": [],
   "source": [
    "import copy\n",
    "import os\n",
    "import time\n",
    "\n",
    "import torch\n",
    "from torch.cuda.amp import GradScaler, autocast\n",
    "from tqdm import tqdm\n",
    "\n",
    "from sklearn.metrics import confusion_matrix\n",
    "import seaborn as sn\n",
    "import pandas as pd\n",
    "import numpy as np\n",
    "import matplotlib.pyplot as plt\n",
    "from sklearn.metrics import roc_curve\n",
    "import math"
   ]
  },
  {
   "cell_type": "code",
   "execution_count": 103,
   "id": "3e61ea82",
   "metadata": {},
   "outputs": [],
   "source": [
    "def create_confusion_matrix(): #(loader, model, device, err_est_bin_range_lo):\n",
    "    #model.eval()\n",
    "    y_pred = [] # save predction\n",
    "    y_true = [] # save ground truth\n",
    "    y_prob = []\n",
    "\n",
    "    y_pred_target = [0,1,0,0,1,1,1,1,0,0,0,0,0,0,0] #[0,1,0,0,1,1,1,1,0,0,0,0,0,0,0]\n",
    "    y_true_target = [0,1,0,0,1,1,1,1,0,0,0,0,0,0,0]#[1,1,0,0,1,0,1,1,0,1,0,1,0,0,0]\n",
    "    for i in range(len(y_pred_target)):\n",
    "        y_prob.extend([np.abs(np.sin(i))])\n",
    "        y_pred.extend([y_pred_target[i]])  # save prediction\n",
    "\n",
    "        label_above_lo = y_true_target[i]\n",
    "        y_true.extend([label_above_lo])  # save ground truth\n",
    "        \n",
    "    fpr, tpr, thresholds = roc_curve(y_true, y_prob)\n",
    "#     import pdb\n",
    "#     pdb.set_trace()\n",
    "\n",
    "        \n",
    "    print(y_pred)\n",
    "    print(y_true)\n",
    "    # constant for classes\n",
    "    classes = [\"0\", \"1\"]\n",
    "\n",
    "    # Build confusion matrix\n",
    "    cf_matrix = confusion_matrix(y_true, y_pred, labels=range(0,2))\n",
    "    df_cm = pd.DataFrame(cf_matrix, index=classes, columns=classes) # cf_matrix/np.sum(cf_matrix) * 10\n",
    "\n",
    "#     cf_matrix = confusion_matrix(y_true, y_pred)\n",
    "#     df_cm = pd.DataFrame(cf_matrix, index=[i for i in classes],\n",
    "#                             columns=[i for i in classes]) # cf_matrix/np.sum(cf_matrix) * 10\n",
    "    plt.figure(figsize=(12, 7))    \n",
    "    sn.heatmap(df_cm, annot=True)#.get_figure()\n",
    "    plt.plot()\n",
    "    plt.show()\n",
    "    \n",
    "    gmeans = np.sqrt(tpr * (1-fpr))\n",
    "    # locate the index of the largest g-mean\n",
    "    ix = np.argmax(gmeans)\n",
    "    print('Best Threshold=%f, G-Mean=%.3f' % (thresholds[ix], gmeans[ix]))\n",
    "    # plot the roc curve for the model\n",
    "    plt.plot([0,1], [0,1], linestyle='--', label='No Skill')\n",
    "    plt.plot(fpr, tpr, marker='.', label='Logistic')\n",
    "    plt.scatter(fpr[ix], tpr[ix], marker='o', color='black', label='Best')\n",
    "    plt.legend()"
   ]
  },
  {
   "cell_type": "code",
   "execution_count": 104,
   "id": "89f8edfc",
   "metadata": {},
   "outputs": [
    {
     "name": "stdout",
     "output_type": "stream",
     "text": [
      "[0, 1, 0, 0, 1, 1, 1, 1, 0, 0, 0, 0, 0, 0, 0]\n",
      "[0, 1, 0, 0, 1, 1, 1, 1, 0, 0, 0, 0, 0, 0, 0]\n"
     ]
    },
    {
     "data": {
      "image/png": "[encoded data removed]",
      "text/plain": [
       "<Figure size 864x504 with 2 Axes>"
      ]
     },
     "metadata": {
      "needs_background": "light"
     },
     "output_type": "display_data"
    },
    {
     "name": "stdout",
     "output_type": "stream",
     "text": [
      "Best Threshold=0.656987, G-Mean=0.693\n"
     ]
    },
    {
     "data": {
      "image/png": "[encoded data removed]",
      "text/plain": [
       "<Figure size 432x288 with 1 Axes>"
      ]
     },
     "metadata": {
      "needs_background": "light"
     },
     "output_type": "display_data"
    }
   ],
   "source": [
    "create_confusion_matrix()"
   ]
  },
  {
   "cell_type": "code",
   "execution_count": 37,
   "id": "bcf5c06d",
   "metadata": {},
   "outputs": [],
   "source": [
    "x = [1,2].extend([3])"
   ]
  },
  {
   "cell_type": "code",
   "execution_count": 38,
   "id": "5f0398c3",
   "metadata": {},
   "outputs": [
    {
     "name": "stdout",
     "output_type": "stream",
     "text": [
      "None\n"
     ]
    }
   ],
   "source": [
    "print(x)"
   ]
  },
  {
   "cell_type": "code",
   "execution_count": 45,
   "id": "df7a633a",
   "metadata": {},
   "outputs": [],
   "source": [
    "import torch"
   ]
  },
  {
   "cell_type": "code",
   "execution_count": 79,
   "id": "9049a07f",
   "metadata": {},
   "outputs": [],
   "source": [
    "age_pred_err_est_head  =torch.Tensor([0])"
   ]
  },
  {
   "cell_type": "code",
   "execution_count": 80,
   "id": "1edd1005",
   "metadata": {},
   "outputs": [],
   "source": [
    "pred_err_prob = torch.sigmoid(age_pred_err_est_head)\n",
    "pred_err = torch.round(pred_err_prob).cpu().numpy()"
   ]
  },
  {
   "cell_type": "code",
   "execution_count": 81,
   "id": "2bdde60f",
   "metadata": {},
   "outputs": [
    {
     "data": {
      "text/plain": [
       "tensor([0.5000])"
      ]
     },
     "execution_count": 81,
     "metadata": {},
     "output_type": "execute_result"
    }
   ],
   "source": [
    "pred_err_prob"
   ]
  },
  {
   "cell_type": "code",
   "execution_count": 82,
   "id": "0645d8d7",
   "metadata": {},
   "outputs": [],
   "source": [
    "y_true = []"
   ]
  },
  {
   "cell_type": "code",
   "execution_count": 83,
   "id": "8d28fe92",
   "metadata": {},
   "outputs": [],
   "source": [
    "y_true.extend(pred_err)"
   ]
  },
  {
   "cell_type": "code",
   "execution_count": 84,
   "id": "44d2ac83",
   "metadata": {},
   "outputs": [
    {
     "data": {
      "text/plain": [
       "[0.0]"
      ]
     },
     "execution_count": 84,
     "metadata": {},
     "output_type": "execute_result"
    }
   ],
   "source": [
    "y_true"
   ]
  },
  {
   "cell_type": "code",
   "execution_count": null,
   "id": "f842950c",
   "metadata": {},
   "outputs": [],
   "source": []
  }
 ],
 "metadata": {
  "kernelspec": {
   "display_name": "Python 3 (ipykernel)",
   "language": "python",
   "name": "python3"
  },
  "language_info": {
   "codemirror_mode": {
    "name": "ipython",
    "version": 3
   },
   "file_extension": ".py",
   "mimetype": "text/x-python",
   "name": "python",
   "nbconvert_exporter": "python",
   "pygments_lexer": "ipython3",
   "version": "3.8.12"
  }
 },
 "nbformat": 4,
 "nbformat_minor": 5
}
